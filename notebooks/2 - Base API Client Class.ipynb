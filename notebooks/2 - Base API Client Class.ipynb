{
 "cells": [
  {
   "cell_type": "code",
   "execution_count": null,
   "id": "fb37628a",
   "metadata": {},
   "outputs": [],
   "source": [
    "%pip install requests"
   ]
  },
  {
   "cell_type": "code",
   "execution_count": 1,
   "id": "b3a572f1",
   "metadata": {},
   "outputs": [],
   "source": [
    "import base64\n",
    "import requests\n",
    "import datetime"
   ]
  },
  {
   "cell_type": "code",
   "execution_count": 2,
   "id": "bb02fe51",
   "metadata": {},
   "outputs": [],
   "source": [
    "client_id = \"a3257d3e8f294fac939a9c3dd128cb73\"\n",
    "client_secret = \"45b4f34f2ba447799b81e2a4c98395cb\""
   ]
  },
  {
   "cell_type": "code",
   "execution_count": 15,
   "id": "bd65ef30",
   "metadata": {},
   "outputs": [],
   "source": [
    "class SpotifyAPI(object):\n",
    "    # default variables\n",
    "    access_token = None\n",
    "    access_token_expires = datetime.datetime.now()\n",
    "    access_token_did_expire = True\n",
    "    client_id = None\n",
    "    client_secret = None\n",
    "    token_url = \"https://accounts.spotify.com/api/token\"\n",
    "    method = \"POST\"\n",
    "    \n",
    "    def __init__(self, client_id, client_secret, *args, **kwargs):\n",
    "        super().__init__(*args, **kwargs)\n",
    "        self.client_id = client_id\n",
    "        self.client_secret = client_secret\n",
    "    \n",
    "    def get_client_credentials(self):\n",
    "        \"\"\"\n",
    "        Returns a base64 encoded string\n",
    "        \"\"\"\n",
    "        client_id = self.client_id\n",
    "        client_secret = self.client_secret\n",
    "        \n",
    "        # if client_id / client_secret are not set raise exception\n",
    "        if client_id == None or client_secret == None:\n",
    "            raise Exception(\"You must set client_id and client_secret\")\n",
    "        client_creds = f\"{client_id}:{client_secret}\"\n",
    "        client_creds_b64 = base64.b64encode(client_creds.encode()) # encode to byte then convert to b64\n",
    "        return client_creds_b64.decode() # decode the b64 from bytes\n",
    "    \n",
    "    def get_token_data(self):\n",
    "        return {\n",
    "            \"grant_type\": \"client_credentials\"\n",
    "        }\n",
    "    \n",
    "    def get_token_headers(self):\n",
    "        client_creds_b64 = self.get_client_credentials()\n",
    "        return {\n",
    "            \"Authorization\": f\"Basic {client_creds_b64}\"\n",
    "        }\n",
    "    \n",
    "    def perform_auth(self):\n",
    "        token_url = self.token_url\n",
    "        token_data = self.get_token_data()\n",
    "        token_headers = self.get_token_headers()\n",
    "        \n",
    "        # sends a request to Spotify API\n",
    "        r = requests.post(token_url, data=token_data, headers=token_headers)\n",
    "        # checks if valid request\n",
    "        if r.status_code not in range(200, 299):\n",
    "            return False # if not return False\n",
    "        data = r.json() # our token received from Spotify\n",
    "        access_token = data['access_token'] # token needed to request data from Spotify\n",
    "        expires_in = data['expires_in'] # seconds until the token expires\n",
    "        now = datetime.datetime.now() # datetime right now to create datetime of when token expires\n",
    "        expires = now + datetime.timedelta(seconds=expires_in) # gives expiration a datetime stamp\n",
    "        self.access_token = access_token\n",
    "        self.access_token_expires = expires # sets access_token_expires = expires\n",
    "        self.access_token_did_expire = expires < now # boolean, checks if access token expired\n",
    "        return True\n",
    "        "
   ]
  },
  {
   "cell_type": "code",
   "execution_count": 16,
   "id": "20c51713",
   "metadata": {},
   "outputs": [],
   "source": [
    "spotify = SpotifyAPI(client_id, client_secret)"
   ]
  },
  {
   "cell_type": "code",
   "execution_count": 17,
   "id": "d67554a5",
   "metadata": {},
   "outputs": [
    {
     "data": {
      "text/plain": [
       "True"
      ]
     },
     "execution_count": 17,
     "metadata": {},
     "output_type": "execute_result"
    }
   ],
   "source": [
    "spotify.perform_auth()"
   ]
  },
  {
   "cell_type": "code",
   "execution_count": 18,
   "id": "00dc646a",
   "metadata": {},
   "outputs": [
    {
     "data": {
      "text/plain": [
       "'BQDj46F9aSbgE9BtmXYQSrfkEprfRFkmVnWjl-nnOHGS1l5XJ1494HnK2WAOTT5K3XeV6rmxNDTzA-sjnls'"
      ]
     },
     "execution_count": 18,
     "metadata": {},
     "output_type": "execute_result"
    }
   ],
   "source": [
    "spotify.access_token"
   ]
  },
  {
   "cell_type": "code",
   "execution_count": null,
   "id": "91d208ef",
   "metadata": {},
   "outputs": [],
   "source": []
  }
 ],
 "metadata": {
  "kernelspec": {
   "display_name": "Python 3 (ipykernel)",
   "language": "python",
   "name": "python3"
  },
  "language_info": {
   "codemirror_mode": {
    "name": "ipython",
    "version": 3
   },
   "file_extension": ".py",
   "mimetype": "text/x-python",
   "name": "python",
   "nbconvert_exporter": "python",
   "pygments_lexer": "ipython3",
   "version": "3.10.4"
  }
 },
 "nbformat": 4,
 "nbformat_minor": 5
}
