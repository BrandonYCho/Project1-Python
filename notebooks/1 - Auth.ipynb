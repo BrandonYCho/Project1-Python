{
 "cells": [
  {
   "cell_type": "code",
   "execution_count": null,
   "id": "fb37628a",
   "metadata": {},
   "outputs": [],
   "source": [
    "%pip install requests"
   ]
  },
  {
   "cell_type": "code",
   "execution_count": null,
   "id": "b3a572f1",
   "metadata": {},
   "outputs": [],
   "source": [
    "import base64\n",
    "import requests\n",
    "import datetime"
   ]
  },
  {
   "cell_type": "code",
   "execution_count": null,
   "id": "bb02fe51",
   "metadata": {},
   "outputs": [],
   "source": [
    "client_id = \"a3257d3e8f294fac939a9c3dd128cb73\"\n",
    "client_secret = \"45b4f34f2ba447799b81e2a4c98395cb\""
   ]
  },
  {
   "cell_type": "code",
   "execution_count": null,
   "id": "d2e98562",
   "metadata": {},
   "outputs": [],
   "source": [
    "# Encoding client creds to base64\n",
    "client_creds = f\"{client_id}:{client_secret}\"\n",
    "\n",
    "# client_creds.encode()\n",
    "# client_creds.decode()\n",
    "\n",
    "client_creds_b64 = base64.b64encode(client_creds.encode())\n",
    "\n",
    "# how to decode a b64 string\n",
    "# base64.b64decode(client_creds_b64)"
   ]
  },
  {
   "cell_type": "code",
   "execution_count": null,
   "id": "5ebc66fa",
   "metadata": {},
   "outputs": [],
   "source": [
    "# do a lookup for a token (for future requests)\n",
    "token_url = \"https://accounts.spotify.com/api/token\"\n",
    "method = \"POST\"\n",
    "token_data = {\n",
    "    \"grant_type\": \"client_credentials\"\n",
    "}\n",
    "token_headers = {\n",
    "    \"Authorization\": f\"Basic {client_creds_b64.decode()}\"\n",
    "}"
   ]
  },
  {
   "cell_type": "code",
   "execution_count": null,
   "id": "449666b5",
   "metadata": {},
   "outputs": [],
   "source": [
    "# Requesting the access token\n",
    "r = requests.post(token_url, data=token_data, headers=token_headers)\n",
    "print(r.json())\n",
    "valid_request = r.status_code in range(200, 299)\n"
   ]
  },
  {
   "cell_type": "code",
   "execution_count": null,
   "id": "2f190f8a",
   "metadata": {},
   "outputs": [],
   "source": [
    "if valid_request:\n",
    "    token_response_data = r.json()\n",
    "    now = datetime.datetime.now()\n",
    "    access_token = token_response_data['access_token']\n",
    "    expires_in = token_response_data['expires_in'] # seconds\n",
    "    expires = now + datetime.timedelta(seconds=expires_in)\n",
    "    did_expire = expires < now"
   ]
  }
 ],
 "metadata": {
  "kernelspec": {
   "display_name": "Python 3 (ipykernel)",
   "language": "python",
   "name": "python3"
  },
  "language_info": {
   "codemirror_mode": {
    "name": "ipython",
    "version": 3
   },
   "file_extension": ".py",
   "mimetype": "text/x-python",
   "name": "python",
   "nbconvert_exporter": "python",
   "pygments_lexer": "ipython3",
   "version": "3.10.4"
  }
 },
 "nbformat": 4,
 "nbformat_minor": 5
}
