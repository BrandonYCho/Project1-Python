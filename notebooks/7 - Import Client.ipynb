{
 "cells": [
  {
   "cell_type": "code",
   "execution_count": null,
   "id": "26365e1b",
   "metadata": {},
   "outputs": [],
   "source": [
    "from spotfiy_client import *"
   ]
  },
  {
   "cell_type": "code",
   "execution_count": null,
   "id": "d224ebc1",
   "metadata": {},
   "outputs": [],
   "source": [
    "client_id = \"a3257d3e8f294fac939a9c3dd128cb73\"\n",
    "client_secret = \"45b4f34f2ba447799b81e2a4c98395cb\""
   ]
  },
  {
   "cell_type": "code",
   "execution_count": null,
   "id": "283d7a2a",
   "metadata": {},
   "outputs": [],
   "source": [
    "spotify = SpotifyAPI(client_id, client_secret)"
   ]
  },
  {
   "cell_type": "code",
   "execution_count": null,
   "id": "269d141c",
   "metadata": {},
   "outputs": [],
   "source": [
    "spotify.search({\"track\": \"Time\"}, search_type=\"track\")"
   ]
  }
 ],
 "metadata": {
  "kernelspec": {
   "display_name": "Python 3 (ipykernel)",
   "language": "python",
   "name": "python3"
  },
  "language_info": {
   "codemirror_mode": {
    "name": "ipython",
    "version": 3
   },
   "file_extension": ".py",
   "mimetype": "text/x-python",
   "name": "python",
   "nbconvert_exporter": "python",
   "pygments_lexer": "ipython3",
   "version": "3.10.4"
  }
 },
 "nbformat": 4,
 "nbformat_minor": 5
}
