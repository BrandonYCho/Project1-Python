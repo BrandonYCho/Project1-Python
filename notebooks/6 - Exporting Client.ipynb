{
 "cells": [
  {
   "cell_type": "code",
   "execution_count": 2,
   "id": "c379b770",
   "metadata": {},
   "outputs": [
    {
     "name": "stderr",
     "output_type": "stream",
     "text": [
      "[NbConvertApp] Converting notebook spotify_client.ipynb to python\n",
      "[NbConvertApp] Writing 4835 bytes to ..\\client\\spotify_client.py\n"
     ]
    }
   ],
   "source": [
    "!jupyter nbconvert --output-dir=\"../client\" --to python spotify_client.ipynb"
   ]
  },
  {
   "cell_type": "code",
   "execution_count": null,
   "id": "7cceef41",
   "metadata": {},
   "outputs": [],
   "source": []
  }
 ],
 "metadata": {
  "kernelspec": {
   "display_name": "Python 3 (ipykernel)",
   "language": "python",
   "name": "python3"
  },
  "language_info": {
   "codemirror_mode": {
    "name": "ipython",
    "version": 3
   },
   "file_extension": ".py",
   "mimetype": "text/x-python",
   "name": "python",
   "nbconvert_exporter": "python",
   "pygments_lexer": "ipython3",
   "version": "3.10.4"
  }
 },
 "nbformat": 4,
 "nbformat_minor": 5
}
